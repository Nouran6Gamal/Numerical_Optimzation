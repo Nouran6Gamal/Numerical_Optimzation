{
 "cells": [
  {
   "cell_type": "markdown",
   "metadata": {
    "id": "32b92576"
   },
   "source": [
    "<b>In this practical exam you are required to do the following:</b><b>\n",
    "1. Implement the Adam (Batch Version) algorithm to train a multivariable linear regression model.\n",
    "2. Update your implementation to work for mini-batch.\n",
    "</b>\n",
    "\n",
    "### Please fulfil the following requirements:\n",
    "<br>\n",
    "<b>\n",
    "    \n",
    "    1. Each implementation must be in a sepearate function. i.e. two separate functions.\n",
    "    2. Check each function on the data in the attached file.\n",
    "    3. You must obtain r2-score > 0.9 using each functiion.\n",
    "    4. You must plot the following curves.\n",
    "        - Loss vs. iterations.\n",
    "        - Loss vs. each parameter (i.e. loss vs theta 0, loss vs. theta 1 .... etc.).\n",
    "    5. Choose hyper parameters to obtain the required accuracy.\n",
    "    6. The implementation must be vectoried and calculations must be performed as matrix vector multiplications.\n",
    "    7. Apply the stop conditions (gradient < 0.001 and cost convergence check).                                            \n",
    "</b>\n",
    "    \n",
    "<b><i>Note: You are allowed to use the code you developed during practical sessions. However, it should be your own code.</i></b>"
   ]
  },
  {
   "cell_type": "markdown",
   "metadata": {
    "id": "db57d373"
   },
   "source": [
    "## Best of Luck..."
   ]
  },
  {
   "cell_type": "code",
   "execution_count": 1,
   "metadata": {
    "id": "0cbf0144"
   },
   "outputs": [],
   "source": [
    "import numpy as np\n",
    "import pandas as pd\n",
    "import matplotlib.pyplot as plt\n",
    "%matplotlib inline"
   ]
  },
  {
   "cell_type": "code",
   "execution_count": 3,
   "metadata": {},
   "outputs": [
    {
     "data": {
      "text/plain": [
       "array([[  1,  73,  80,  75, 152],\n",
       "       [  1,  93,  88,  93, 185],\n",
       "       [  1,  89,  91,  90, 180],\n",
       "       [  1,  96,  98, 100, 196],\n",
       "       [  1,  73,  66,  70, 142],\n",
       "       [  1,  53,  46,  55, 101],\n",
       "       [  1,  69,  74,  77, 149],\n",
       "       [  1,  47,  56,  60, 115],\n",
       "       [  1,  87,  79,  90, 175],\n",
       "       [  1,  79,  70,  88, 164],\n",
       "       [  1,  69,  70,  73, 141],\n",
       "       [  1,  70,  65,  74, 141],\n",
       "       [  1,  93,  95,  91, 184],\n",
       "       [  1,  79,  80,  73, 152],\n",
       "       [  1,  70,  73,  78, 148],\n",
       "       [  1,  93,  89,  96, 192],\n",
       "       [  1,  78,  75,  68, 147],\n",
       "       [  1,  81,  90,  93, 183],\n",
       "       [  1,  88,  92,  86, 177],\n",
       "       [  1,  78,  83,  77, 159],\n",
       "       [  1,  82,  86,  90, 177],\n",
       "       [  1,  86,  82,  89, 175],\n",
       "       [  1,  78,  83,  85, 175],\n",
       "       [  1,  76,  83,  71, 149],\n",
       "       [  1,  96,  93,  95, 192]], dtype=int64)"
      ]
     },
     "execution_count": 3,
     "metadata": {},
     "output_type": "execute_result"
    }
   ],
   "source": [
    "from numpy import genfromtxt\n",
    "data= pd.read_csv('MultipleLR.csv - MultipleLR.csv.csv', header=None)\n",
    "#csv1 = open(\"MultipleLR.csv\")\n",
    "#data = np.loadtxt(csv1, delimiter=\",\")\n",
    "data.insert(0,'X0',1)\n",
    "d=data.to_numpy()\n",
    "d\n"
   ]
  },
  {
   "cell_type": "code",
   "execution_count": 4,
   "metadata": {},
   "outputs": [
    {
     "data": {
      "text/plain": [
       "(25, 4)"
      ]
     },
     "execution_count": 4,
     "metadata": {},
     "output_type": "execute_result"
    }
   ],
   "source": [
    "x = d[:, :4]\n",
    "x\n",
    "x.shape"
   ]
  },
  {
   "cell_type": "code",
   "execution_count": 5,
   "metadata": {},
   "outputs": [
    {
     "name": "stdout",
     "output_type": "stream",
     "text": [
      "(25, 1)\n"
     ]
    }
   ],
   "source": [
    "y1=d[:,4].reshape(25,1)\n",
    "y1\n",
    "print(np.shape(y1))\n"
   ]
  },
  {
   "cell_type": "code",
   "execution_count": 6,
   "metadata": {},
   "outputs": [
    {
     "data": {
      "text/plain": [
       "array([[0.],\n",
       "       [0.],\n",
       "       [0.],\n",
       "       [0.]])"
      ]
     },
     "execution_count": 6,
     "metadata": {},
     "output_type": "execute_result"
    }
   ],
   "source": [
    "theta=np.zeros((4,1)) #vector of zeros\n",
    "theta"
   ]
  },
  {
   "cell_type": "code",
   "execution_count": 7,
   "metadata": {},
   "outputs": [
    {
     "data": {
      "text/plain": [
       "array([[0.],\n",
       "       [0.],\n",
       "       [0.],\n",
       "       [0.],\n",
       "       [0.],\n",
       "       [0.],\n",
       "       [0.],\n",
       "       [0.],\n",
       "       [0.],\n",
       "       [0.],\n",
       "       [0.],\n",
       "       [0.],\n",
       "       [0.],\n",
       "       [0.],\n",
       "       [0.],\n",
       "       [0.],\n",
       "       [0.],\n",
       "       [0.],\n",
       "       [0.],\n",
       "       [0.],\n",
       "       [0.],\n",
       "       [0.],\n",
       "       [0.],\n",
       "       [0.],\n",
       "       [0.]])"
      ]
     },
     "execution_count": 7,
     "metadata": {},
     "output_type": "execute_result"
    }
   ],
   "source": [
    "h=np.dot(x, theta)\n",
    "h"
   ]
  },
  {
   "cell_type": "code",
   "execution_count": 8,
   "metadata": {},
   "outputs": [
    {
     "data": {
      "text/plain": [
       "array([[-152.],\n",
       "       [-185.],\n",
       "       [-180.],\n",
       "       [-196.],\n",
       "       [-142.],\n",
       "       [-101.],\n",
       "       [-149.],\n",
       "       [-115.],\n",
       "       [-175.],\n",
       "       [-164.],\n",
       "       [-141.],\n",
       "       [-141.],\n",
       "       [-184.],\n",
       "       [-152.],\n",
       "       [-148.],\n",
       "       [-192.],\n",
       "       [-147.],\n",
       "       [-183.],\n",
       "       [-177.],\n",
       "       [-159.],\n",
       "       [-177.],\n",
       "       [-175.],\n",
       "       [-175.],\n",
       "       [-149.],\n",
       "       [-192.]])"
      ]
     },
     "execution_count": 8,
     "metadata": {},
     "output_type": "execute_result"
    }
   ],
   "source": [
    "err=h-y1\n",
    "err.shape\n",
    "err"
   ]
  },
  {
   "cell_type": "code",
   "execution_count": 9,
   "metadata": {},
   "outputs": [
    {
     "data": {
      "text/plain": [
       "array([[8378737.5]])"
      ]
     },
     "execution_count": 9,
     "metadata": {},
     "output_type": "execute_result"
    }
   ],
   "source": [
    "m=len(x)\n",
    "cost=(err.T@err)/2*m\n",
    "cost"
   ]
  },
  {
   "cell_type": "code",
   "execution_count": 10,
   "metadata": {},
   "outputs": [
    {
     "data": {
      "text/plain": [
       "array([[  -162.04],\n",
       "       [-13075.8 ],\n",
       "       [-13147.2 ],\n",
       "       [-13467.08]])"
      ]
     },
     "execution_count": 10,
     "metadata": {},
     "output_type": "execute_result"
    }
   ],
   "source": [
    "dtheta=(x.T@err)/m\n",
    "dtheta"
   ]
  },
  {
   "cell_type": "code",
   "execution_count": 11,
   "metadata": {},
   "outputs": [
    {
     "data": {
      "text/plain": [
       "array([[ 0.16204],\n",
       "       [13.0758 ],\n",
       "       [13.1472 ],\n",
       "       [13.46708]])"
      ]
     },
     "execution_count": 11,
     "metadata": {},
     "output_type": "execute_result"
    }
   ],
   "source": [
    "alpha=.001\n",
    "theta=theta-alpha*dtheta\n",
    "theta"
   ]
  },
  {
   "cell_type": "markdown",
   "metadata": {},
   "source": [
    "Multivariable adam batch"
   ]
  },
  {
   "cell_type": "code",
   "execution_count": 197,
   "metadata": {},
   "outputs": [],
   "source": [
    "import math\n",
    "alpha=0.00001 \n",
    "e=1e-8\n",
    "i=1000\n",
    "B1=0.9 #beta\n",
    "B2=0.99\n",
    "theta_0=[]\n",
    "theta_1=[]\n",
    "theta_2=[]\n",
    "theta_3=[]\n",
    "H2=[]\n",
    "def adam (x,y1,alpha,e,i,B1,B2):\n",
    "    theta0,theta1,theta2,theta3=0,0,0,0\n",
    "    theta_0.append(theta0) #theta0 t\n",
    "    theta_1.append(theta1)\n",
    "    theta_2.append(theta2)\n",
    "    theta_3.append(theta3)\n",
    "    t=1\n",
    "    m=len(x)\n",
    "    theta=np.zeros((4,1)) #vector of zeros\n",
    "    Vt1=np.zeros((4,1)) #vector of zeros\n",
    "    mt1=np.zeros((4,1)) #vector of zeros\n",
    "\n",
    "\n",
    "    h=np.dot(x, theta)     #h=theta0+theta1*x                        \n",
    "    H2.append(h)\n",
    "    err=h-y1\n",
    "    cost=(err.T@err)/2*m\n",
    "    Cost1=[]\n",
    "    Cost=[]\n",
    "    Cost1=np.append(Cost1,cost)\n",
    "    Cost=np.append(Cost,cost[0,0]) \n",
    "    dtheta=(x.T@err)/m\n",
    "    theta=theta-alpha*dtheta\n",
    "\n",
    "\n",
    "    for n in range(i):\n",
    "        h=np.dot(x, theta)\n",
    "        H2.append(h)\n",
    "        err=h-y1\n",
    "        cost=(err.T@err)/2*m\n",
    "        Cost1=np.append(Cost1,cost)# size=(100, 1, 1) 100 Xcost(size(1,1))\n",
    "        Cost=np.append(Cost,cost[0,0]) #size=(100,) here we take 1st dim of cost \n",
    "        dtheta=(x.T@err)/m\n",
    "        theta=theta-alpha*dtheta\n",
    "        \n",
    "        mt0=[]\n",
    "        Vt0=[]\n",
    "        mt_c=[]\n",
    "        Vt_c=[]\n",
    "        mt0=B1*mt1+(1-B1)*dtheta\n",
    "        Vt0=B2*Vt1+(1-B2)*(dtheta**2)\n",
    "        mt_c=mt0/(1-B1**t)\n",
    "        Vt_c=1/(1-B2**t)\n",
    "        theta=theta-(alpha*mt_c/(Vt_c**2+e))\n",
    "        theta_0.append(theta[0])\n",
    "        theta_1.append(theta[1])\n",
    "        theta_2.append(theta[2])\n",
    "        theta_3.append(theta[3])\n",
    "\n",
    "        t+=1\n",
    "    \n",
    "    return H2,Cost,Cost1\n",
    "\n",
    "    \n",
    "\n",
    "HH,c,c1=adam (x,y1,alpha,e,i,B1,B2)\n",
    "\n"
   ]
  },
  {
   "cell_type": "code",
   "execution_count": 179,
   "metadata": {},
   "outputs": [
    {
     "data": {
      "text/plain": [
       "0.982294970526699"
      ]
     },
     "execution_count": 179,
     "metadata": {},
     "output_type": "execute_result"
    }
   ],
   "source": [
    "from sklearn.metrics import r2_score\n",
    "r2_score(y1, H2[-1])\n",
    "\n"
   ]
  },
  {
   "cell_type": "code",
   "execution_count": 180,
   "metadata": {},
   "outputs": [
    {
     "data": {
      "image/png": "[encoded data removed]",
      "text/plain": [
       "<Figure size 432x288 with 1 Axes>"
      ]
     },
     "metadata": {
      "needs_background": "light"
     },
     "output_type": "display_data"
    }
   ],
   "source": [
    "iters=np.linspace(0, 1000, num=1001)\n",
    "plt.plot(iters,c)\n",
    "plt.show()"
   ]
  },
  {
   "cell_type": "code",
   "execution_count": 191,
   "metadata": {},
   "outputs": [
    {
     "name": "stdout",
     "output_type": "stream",
     "text": [
      "(1001,)\n",
      "(1001,)\n"
     ]
    },
    {
     "data": {
      "image/png": "[encoded data removed]",
      "text/plain": [
       "<Figure size 432x288 with 1 Axes>"
      ]
     },
     "metadata": {
      "needs_background": "light"
     },
     "output_type": "display_data"
    }
   ],
   "source": [
    "print(np.shape(theta_0))\n",
    "print(np.shape(c))\n",
    "\n",
    "plt.plot(theta_0,c)\n",
    "plt.show()"
   ]
  },
  {
   "cell_type": "code",
   "execution_count": 192,
   "metadata": {},
   "outputs": [
    {
     "name": "stdout",
     "output_type": "stream",
     "text": [
      "(1001,)\n",
      "(1001,)\n"
     ]
    },
    {
     "data": {
      "image/png": "[encoded data removed]",
      "text/plain": [
       "<Figure size 432x288 with 1 Axes>"
      ]
     },
     "metadata": {
      "needs_background": "light"
     },
     "output_type": "display_data"
    }
   ],
   "source": [
    "print(np.shape(theta_1))\n",
    "print(np.shape(c))\n",
    "\n",
    "plt.plot(theta_1,c)\n",
    "plt.show()"
   ]
  },
  {
   "cell_type": "code",
   "execution_count": 198,
   "metadata": {},
   "outputs": [
    {
     "name": "stdout",
     "output_type": "stream",
     "text": [
      "(1001,)\n",
      "(1001,)\n"
     ]
    },
    {
     "data": {
      "image/png": "[encoded data removed]",
      "text/plain": [
       "<Figure size 432x288 with 1 Axes>"
      ]
     },
     "metadata": {
      "needs_background": "light"
     },
     "output_type": "display_data"
    }
   ],
   "source": [
    "print(np.shape(theta_2))\n",
    "print(np.shape(c))\n",
    "\n",
    "plt.plot(theta_2,c)\n",
    "plt.show()"
   ]
  },
  {
   "cell_type": "code",
   "execution_count": 199,
   "metadata": {},
   "outputs": [
    {
     "name": "stdout",
     "output_type": "stream",
     "text": [
      "(1001,)\n",
      "(1001,)\n"
     ]
    },
    {
     "data": {
      "image/png": "[encoded data removed]",
      "text/plain": [
       "<Figure size 432x288 with 1 Axes>"
      ]
     },
     "metadata": {
      "needs_background": "light"
     },
     "output_type": "display_data"
    }
   ],
   "source": [
    "print(np.shape(theta_3))\n",
    "print(np.shape(c))\n",
    "\n",
    "plt.plot(theta_3,c)\n",
    "plt.show()"
   ]
  },
  {
   "cell_type": "code",
   "execution_count": 175,
   "metadata": {},
   "outputs": [],
   "source": [
    "import math\n",
    "alpha=0.00001 \n",
    "e=1e-8\n",
    "i=1000\n",
    "B1=0.9 #beta\n",
    "B2=0.99\n",
    "theta_0=[]\n",
    "theta_1=[]\n",
    "theta_2=[]\n",
    "theta_3=[]\n",
    "H2=[]\n",
    "def adam (x,y1,alpha,e,i,B1,B2):\n",
    "    t=1\n",
    "    m=len(x)\n",
    "    theta=np.zeros((4,1)) #vector of zeros\n",
    "    Vt1=np.zeros((4,1)) #vector of zeros\n",
    "    mt1=np.zeros((4,1)) #vector of zeros\n",
    "\n",
    "\n",
    "    h=np.dot(x, theta)     #h=theta0+theta1*x                        \n",
    "    H2.append(h)\n",
    "    err=h-y1\n",
    "    cost=(err.T@err)/2*m\n",
    "    Cost1=[]\n",
    "    Cost=[]\n",
    "    Cost1=np.append(Cost1,cost)\n",
    "    Cost=np.append(Cost,cost[0,0]) \n",
    "    dtheta=(x.T@err)/m\n",
    "    theta=theta-alpha*dtheta\n",
    "\n",
    "\n",
    "    for n in range(i):\n",
    "        h=np.dot(x, theta)\n",
    "        H2.append(h)\n",
    "        err=h-y1\n",
    "        cost=(err.T@err)/2*m\n",
    "        Cost1=np.append(Cost1,cost)# size=(100, 1, 1) 100 Xcost(size(1,1))\n",
    "        Cost=np.append(Cost,cost[0,0]) #size=(100,) here we take 1st dim of cost \n",
    "        dtheta=(x.T@err)/m\n",
    "        theta=theta-alpha*dtheta\n",
    "        \n",
    "        mt0=[]\n",
    "        Vt0=[]\n",
    "        mt_c=[]\n",
    "        Vt_c=[]\n",
    "        mt0=B1*mt1+(1-B1)*dtheta\n",
    "        Vt0=B2*Vt1+(1-B2)*(dtheta**2)\n",
    "        mt_c=mt0/(1-B1**t)\n",
    "        Vt_c=1/(1-B2**t)\n",
    "        theta=theta-(alpha*mt_c/(Vt_c**2+e))\n",
    "\n",
    "\n",
    "        t+=1\n",
    "    \n",
    "    return H2,Cost,Cost1\n",
    "\n",
    "    \n",
    "\n",
    "HH,c,c1=adam (x,y1,alpha,e,i,B1,B2)\n",
    "\n"
   ]
  },
  {
   "cell_type": "code",
   "execution_count": 176,
   "metadata": {},
   "outputs": [
    {
     "data": {
      "text/plain": [
       "0.982294970526699"
      ]
     },
     "execution_count": 176,
     "metadata": {},
     "output_type": "execute_result"
    }
   ],
   "source": [
    "from sklearn.metrics import r2_score\n",
    "r2_score(y1, H2[-1])"
   ]
  },
  {
   "cell_type": "code",
   "execution_count": 171,
   "metadata": {},
   "outputs": [
    {
     "name": "stdout",
     "output_type": "stream",
     "text": [
      "(25, 1)\n"
     ]
    }
   ],
   "source": [
    "#mini batch\n",
    "import math\n",
    "alpha=0.00001 \n",
    "e=1e-8\n",
    "i=1000\n",
    "b=4\n",
    "B1=0.9 #beta\n",
    "B2=0.99\n",
    "theta_0=[]\n",
    "theta_1=[]\n",
    "theta_2=[]\n",
    "theta_3=[]\n",
    "H2=[]\n",
    "def adam (x,y1,alpha,e,i,B1,B2):\n",
    "    theta0,theta1,theta2,theta3=0,0,0,0\n",
    "    Vt01,Vt11,Vt21,Vt31=0,0,0,0       #Vt0 -1 Vt01\n",
    "    mt01,mt11,mt21,mt31=0,0,0,0\n",
    "    t=1\n",
    "    m=len(x)\n",
    "    theta_0.append(theta0) #theta0 t\n",
    "    theta_1.append(theta1)\n",
    "    theta_2.append(theta2)\n",
    "    theta_3.append(theta3)\n",
    "    theta=np.zeros((4,1)) #vector of zeros\n",
    "    Vt=np.zeros((4,1)) #vector of zeros\n",
    "    mt=np.zeros((4,1)) #vector of zeros\n",
    "\n",
    "\n",
    "    h=np.dot(x, theta)     #h=theta0+theta1*x                        \n",
    "    H2.append(h)\n",
    "    err=h-y1\n",
    "    cost=(err.T@err)/2*m\n",
    "    Cost1=[]\n",
    "    Cost=[]\n",
    "    Cost1=np.append(Cost1,cost)\n",
    "    Cost=np.append(Cost,cost[0,0]) \n",
    "    dtheta=(x.T@err)/m\n",
    "    theta=theta-alpha*dtheta\n",
    "\n",
    "    for n in range(i):\n",
    "        for k in range(b):\n",
    "            h=np.dot(x, theta)\n",
    "            H2.append(h)\n",
    "            err=h-y1\n",
    "            cost=(err.T@err)/2*m\n",
    "            Cost1=np.append(Cost1,cost)# size=(100, 1, 1) 100 Xcost(size(1,1))\n",
    "            Cost=np.append(Cost,cost[0,0]) #size=(100,) here we take 1st dim of cost \n",
    "            dtheta=(x.T@err)/m\n",
    "            theta=theta-alpha*dtheta\n",
    "\n",
    "            mt0=B1*mt01+(1-B1)*dtheta[0]\n",
    "            Vt0=B2*Vt01+(1-B2)*(dtheta[0]**2)\n",
    "            mt0_c=mt0/(1-B1**t)\n",
    "            Vt0_c=1/(1-B2**t)\n",
    "            theta0=theta0-(alpha*mt0_c/(math.sqrt(Vt0_c)+e))\n",
    "\n",
    "            mt1=B1*mt11+(1-B1)*dtheta[1]\n",
    "            Vt1=B2*Vt11+(1-B2)*(dtheta[1]**2)\n",
    "            mt1_c=mt1/(1-B1**t)\n",
    "            Vt1_c=1/(1-B2**t)\n",
    "            theta1=theta1-(alpha*mt1_c/(math.sqrt(Vt1_c)+e))\n",
    "\n",
    "            mt2=B2*mt21+(1-B1)*dtheta[2]\n",
    "            Vt2=B2*Vt21+(1-B2)*(dtheta[2]**2)\n",
    "            mt2_c=mt2/(1-B1**t)\n",
    "            Vt2_c=1/(1-B2**t)\n",
    "            theta2=theta2-(alpha*mt2_c/(math.sqrt(Vt2_c)+e))\n",
    "\n",
    "            mt3=B2*mt31+(1-B1)*dtheta[3]\n",
    "            Vt3=B2*Vt31+(1-B2)*(dtheta[3]**2)\n",
    "            mt3_c=mt3/(1-B1**t)\n",
    "            Vt3_c=1/(1-B2**t)\n",
    "            theta3=theta3-(alpha*mt3_c/(math.sqrt(Vt3_c)+e))\n",
    "\n",
    "            t+=1\n",
    "\n",
    "            theta_0.append(theta0)\n",
    "            theta_1.append(theta1)\n",
    "            theta_2.append(theta2)\n",
    "            theta_3.append(theta3)\n",
    "\n",
    "    return H2,Cost,Cost1\n",
    "\n",
    "HH,c,c1=adam (x,y1,alpha,e,i,B1,B2)\n",
    "\n"
   ]
  },
  {
   "cell_type": "code",
   "execution_count": 172,
   "metadata": {},
   "outputs": [
    {
     "data": {
      "text/plain": [
       "0.986709469550543"
      ]
     },
     "execution_count": 172,
     "metadata": {},
     "output_type": "execute_result"
    }
   ],
   "source": [
    "from sklearn.metrics import r2_score\n",
    "r2_score(y1, HH[-1])"
   ]
  },
  {
   "cell_type": "code",
   "execution_count": 189,
   "metadata": {},
   "outputs": [],
   "source": [
    "#mini batch\n",
    "import math\n",
    "alpha=0.00001 \n",
    "e=1e-8\n",
    "i=1000\n",
    "B1=0.9 #beta\n",
    "B2=0.99\n",
    "theta_0=[]\n",
    "theta_1=[]\n",
    "theta_2=[]\n",
    "theta_3=[]\n",
    "H2=[]\n",
    "def adam (x,y1,alpha,e,i,B1,B2):\n",
    "    t=1\n",
    "    m=len(x)\n",
    "    theta=np.zeros((4,1)) #vector of zeros\n",
    "    Vt1=np.zeros((4,1)) #vector of zeros\n",
    "    mt1=np.zeros((4,1)) #vector of zeros\n",
    "\n",
    "\n",
    "    h=np.dot(x, theta)     #h=theta0+theta1*x                        \n",
    "    H2.append(h)\n",
    "    err=h-y1\n",
    "    cost=(err.T@err)/2*m\n",
    "    Cost1=[]\n",
    "    Cost=[]\n",
    "    Cost1=np.append(Cost1,cost)\n",
    "    Cost=np.append(Cost,cost[0,0]) \n",
    "    dtheta=(x.T@err)/m\n",
    "    theta=theta-alpha*dtheta\n",
    "\n",
    "\n",
    "    for n in range(i):\n",
    "        for k in range(b):\n",
    "            h=np.dot(x, theta)\n",
    "            H2.append(h)\n",
    "            err=h-y1\n",
    "            cost=(err.T@err)/2*m\n",
    "            Cost1=np.append(Cost1,cost)# size=(100, 1, 1) 100 Xcost(size(1,1))\n",
    "            Cost=np.append(Cost,cost[0,0]) #size=(100,) here we take 1st dim of cost \n",
    "            dtheta=(x.T@err)/m\n",
    "            theta=theta-alpha*dtheta\n",
    "\n",
    "            mt0=[]\n",
    "            Vt0=[]\n",
    "            mt_c=[]\n",
    "            Vt_c=[]\n",
    "            mt0=B1*mt1+(1-B1)*dtheta\n",
    "            Vt0=B2*Vt1+(1-B2)*(dtheta**2)\n",
    "            mt_c=mt0/(1-B1**t)\n",
    "            Vt_c=1/(1-B2**t)\n",
    "            theta=theta-(alpha*mt_c/(Vt_c**2+e))\n",
    "            theta_0.append(theta[0])\n",
    "            theta_1.append(theta[1])\n",
    "\n",
    "            t+=1\n",
    "    \n",
    "    return H2,Cost,Cost1\n",
    "\n",
    "    \n",
    "\n",
    "HH,c,c1=adam (x,y1,alpha,e,i,B1,B2)\n",
    "\n"
   ]
  },
  {
   "cell_type": "code",
   "execution_count": 188,
   "metadata": {},
   "outputs": [
    {
     "data": {
      "text/plain": [
       "0.9870011742146412"
      ]
     },
     "execution_count": 188,
     "metadata": {},
     "output_type": "execute_result"
    }
   ],
   "source": [
    "from sklearn.metrics import r2_score\n",
    "r2_score(y1, HH[-1])"
   ]
  },
  {
   "cell_type": "code",
   "execution_count": 200,
   "metadata": {},
   "outputs": [
    {
     "data": {
      "image/png": "[encoded data removed]",
      "text/plain": [
       "<Figure size 432x288 with 1 Axes>"
      ]
     },
     "metadata": {
      "needs_background": "light"
     },
     "output_type": "display_data"
    }
   ],
   "source": [
    "iters=np.linspace(0, 1000, num=1001)\n",
    "plt.plot(iters,c)\n",
    "plt.show()"
   ]
  },
  {
   "cell_type": "code",
   "execution_count": 201,
   "metadata": {},
   "outputs": [
    {
     "name": "stdout",
     "output_type": "stream",
     "text": [
      "(1001,)\n",
      "(1001,)\n"
     ]
    },
    {
     "data": {
      "image/png": "[encoded data removed]",
      "text/plain": [
       "<Figure size 432x288 with 1 Axes>"
      ]
     },
     "metadata": {
      "needs_background": "light"
     },
     "output_type": "display_data"
    }
   ],
   "source": [
    "print(np.shape(theta_0))\n",
    "print(np.shape(c))\n",
    "\n",
    "plt.plot(theta_0,c)\n",
    "plt.show()"
   ]
  },
  {
   "cell_type": "code",
   "execution_count": 202,
   "metadata": {},
   "outputs": [
    {
     "name": "stdout",
     "output_type": "stream",
     "text": [
      "(1001,)\n",
      "(1001,)\n"
     ]
    },
    {
     "data": {
      "image/png": "[encoded data removed]",
      "text/plain": [
       "<Figure size 432x288 with 1 Axes>"
      ]
     },
     "metadata": {
      "needs_background": "light"
     },
     "output_type": "display_data"
    }
   ],
   "source": [
    "print(np.shape(theta_1))\n",
    "print(np.shape(c))\n",
    "\n",
    "plt.plot(theta_1,c)\n",
    "plt.show()"
   ]
  },
  {
   "cell_type": "code",
   "execution_count": 203,
   "metadata": {},
   "outputs": [
    {
     "name": "stdout",
     "output_type": "stream",
     "text": [
      "(1001,)\n",
      "(1001,)\n"
     ]
    },
    {
     "data": {
      "image/png": "[encoded data removed]",
      "text/plain": [
       "<Figure size 432x288 with 1 Axes>"
      ]
     },
     "metadata": {
      "needs_background": "light"
     },
     "output_type": "display_data"
    }
   ],
   "source": [
    "print(np.shape(theta_2))\n",
    "print(np.shape(c))\n",
    "\n",
    "plt.plot(theta_2,c)\n",
    "plt.show()"
   ]
  },
  {
   "cell_type": "code",
   "execution_count": 204,
   "metadata": {},
   "outputs": [
    {
     "name": "stdout",
     "output_type": "stream",
     "text": [
      "(1001,)\n",
      "(1001,)\n"
     ]
    },
    {
     "data": {
      "image/png": "[encoded data removed]",
      "text/plain": [
       "<Figure size 432x288 with 1 Axes>"
      ]
     },
     "metadata": {
      "needs_background": "light"
     },
     "output_type": "display_data"
    }
   ],
   "source": [
    "print(np.shape(theta_3))\n",
    "print(np.shape(c))\n",
    "\n",
    "plt.plot(theta_3,c)\n",
    "plt.show()"
   ]
  }
 ],
 "metadata": {
  "colab": {
   "name": "NOFML&DS Final Practical Exam.ipynb",
   "provenance": []
  },
  "kernelspec": {
   "display_name": "Python 3",
   "language": "python",
   "name": "python3"
  },
  "language_info": {
   "codemirror_mode": {
    "name": "ipython",
    "version": 3
   },
   "file_extension": ".py",
   "mimetype": "text/x-python",
   "name": "python",
   "nbconvert_exporter": "python",
   "pygments_lexer": "ipython3",
   "version": "3.7.4"
  }
 },
 "nbformat": 4,
 "nbformat_minor": 5
}
